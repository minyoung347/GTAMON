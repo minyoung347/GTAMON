{
 "cells": [
  {
   "cell_type": "code",
   "execution_count": null,
   "metadata": {},
   "outputs": [],
   "source": [
    "import math\n",
    "import numpy as np\n",
    "from pprint import pprint\n",
    "import gensim\n",
    "import os\n",
    "from scipy import spatial\n",
    "import matplotlib.pyplot as plt\n",
    "\n",
    "%cd Reddit\n",
    "\n",
    "# hyper parameters of word2vec\n",
    "eb_size = 50\n",
    "w2v_win = 5\n",
    "mincount = 100\n",
    "epoch_size = 10\n",
    "\n",
    "path = \"model_save_{0}_{1}_{2}_{3}_recommend\".format(eb_size,w2v_win,mincount,epoch_size)\n",
    "\n",
    "iter = 0\n",
    "a = []\n",
    "\n",
    "# 'bitcoin' keyword appears first time at 2013.4.10\n",
    "for i in range(2013,2018):\n",
    "    if i == 2013:\n",
    "        sm = 5\n",
    "    else:\n",
    "        sm = 1\n",
    "    for ii in range(sm,13):\n",
    "        for iii in range(1,32):\n",
    "            year = i\n",
    "            month = ii\n",
    "            day_m = iii\n",
    "            if os.path.isfile(path + \"/w2v_trained_reddit_{0}_{1}_{2}_{3}_{4}_{5}_{6}_recommend\".format(year,int(month),day_m,eb_size,w2v_win,mincount,epoch_size)) == True:\n",
    "                model = gensim.models.Word2Vec.load(path + \"/w2v_trained_reddit_{0}_{1}_{2}_{3}_{4}_{5}_{6}_recommend\".format(year,int(month),day_m,eb_size,w2v_win,mincount,epoch_size))\n",
    "                a.append(model.wv.__getitem__(\"bitcoin\"))\n",
    "                iter = iter + 1\n",
    "\n",
    "# calculate & plot cosine similarity between consecutive embedding vectors of 'bitcoin'\n",
    "b = []\n",
    "for i in range(0, iter-1):\n",
    "    print(i)\n",
    "    b.append(1-spatial.distance.cosine(a[i],a[i+1]))\n",
    "    \n",
    "plt.plot(b)  "
   ]
  },
  {
   "cell_type": "code",
   "execution_count": null,
   "metadata": {},
   "outputs": [],
   "source": [
    "# test vocab at certain day\n",
    "\n",
    "import gensim\n",
    "\n",
    "#%cd Reddit\n",
    "\n",
    "# hyper parameters of word2vec\n",
    "eb_size = 150\n",
    "w2v_win = 5\n",
    "mincount = 100\n",
    "epoch_size = 10\n",
    "\n",
    "path = \"model_save_{0}_{1}_{2}_{3}_recommend\".format(eb_size,w2v_win,mincount,epoch_size)\n",
    "\n",
    "year = 2011\n",
    "month = 12\n",
    "day_m = 1\n",
    "\n",
    "model = gensim.models.Word2Vec.load(path + \"/w2v_trained_reddit_{0}_{1}_{2}_{3}_{4}_{5}_{6}_recommend\".format(year,int(month),day_m,eb_size,w2v_win,mincount,epoch_size))\n",
    "vocab = list(model.wv.vocab)"
   ]
  },
  {
   "cell_type": "code",
   "execution_count": null,
   "metadata": {},
   "outputs": [],
   "source": [
    "print(vocab)"
   ]
  }
 ],
 "metadata": {
  "kernelspec": {
   "display_name": "tensorf",
   "language": "python",
   "name": "tensorf"
  },
  "language_info": {
   "codemirror_mode": {
    "name": "ipython",
    "version": 3
   },
   "file_extension": ".py",
   "mimetype": "text/x-python",
   "name": "python",
   "nbconvert_exporter": "python",
   "pygments_lexer": "ipython3",
   "version": "3.6.8"
  }
 },
 "nbformat": 4,
 "nbformat_minor": 2
}
